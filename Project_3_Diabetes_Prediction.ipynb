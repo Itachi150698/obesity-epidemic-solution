{
  "cells": [
    {
      "cell_type": "markdown",
      "metadata": {
        "id": "LnPbntVRnfvV"
      },
      "source": [
        "Importing the Dependencies"
      ]
    },
    {
      "cell_type": "code",
      "execution_count": 703,
      "metadata": {
        "id": "-71UtHzNVWjB"
      },
      "outputs": [],
      "source": [
        "import numpy as np\n",
        "import pandas as pd\n",
        "from sklearn.preprocessing import StandardScaler\n",
        "from sklearn.model_selection import train_test_split\n",
        "from sklearn import svm\n",
        "from sklearn.metrics import accuracy_score\n",
        "import warnings\n",
        "warnings.filterwarnings(\"ignore\", category=UserWarning)"
      ]
    },
    {
      "cell_type": "markdown",
      "metadata": {
        "id": "bmfOfG8joBBy"
      },
      "source": [
        "Data Collection and Analysis\n",
        "\n",
        "PIMA Diabetes Dataset"
      ]
    },
    {
      "cell_type": "code",
      "execution_count": 704,
      "metadata": {
        "id": "Xpw6Mj_pn_TL"
      },
      "outputs": [],
      "source": [
        "# loading the diabetes dataset to a pandas DataFrame\n",
        "feature_names = ['pregnancies', 'glucose', 'bloodpressure', 'skinthickness', 'insulin', 'bmi', 'dpf', 'age', 'outcome']\n",
        "diabetes_dataset = pd.read_csv('diabetes.csv', names=feature_names)"
      ]
    },
    {
      "cell_type": "code",
      "execution_count": 705,
      "metadata": {
        "colab": {
          "base_uri": "https://localhost:8080/",
          "height": 198
        },
        "id": "-tjO09ncovoh",
        "outputId": "c566e83c-4729-4e62-887d-485b52b923d9"
      },
      "outputs": [
        {
          "data": {
            "text/html": [
              "<div>\n",
              "<style scoped>\n",
              "    .dataframe tbody tr th:only-of-type {\n",
              "        vertical-align: middle;\n",
              "    }\n",
              "\n",
              "    .dataframe tbody tr th {\n",
              "        vertical-align: top;\n",
              "    }\n",
              "\n",
              "    .dataframe thead th {\n",
              "        text-align: right;\n",
              "    }\n",
              "</style>\n",
              "<table border=\"1\" class=\"dataframe\">\n",
              "  <thead>\n",
              "    <tr style=\"text-align: right;\">\n",
              "      <th></th>\n",
              "      <th>pregnancies</th>\n",
              "      <th>glucose</th>\n",
              "      <th>bloodpressure</th>\n",
              "      <th>skinthickness</th>\n",
              "      <th>insulin</th>\n",
              "      <th>bmi</th>\n",
              "      <th>dpf</th>\n",
              "      <th>age</th>\n",
              "      <th>outcome</th>\n",
              "    </tr>\n",
              "  </thead>\n",
              "  <tbody>\n",
              "    <tr>\n",
              "      <th>0</th>\n",
              "      <td>6</td>\n",
              "      <td>148</td>\n",
              "      <td>72</td>\n",
              "      <td>35</td>\n",
              "      <td>0</td>\n",
              "      <td>33.6</td>\n",
              "      <td>0.627</td>\n",
              "      <td>50</td>\n",
              "      <td>1</td>\n",
              "    </tr>\n",
              "    <tr>\n",
              "      <th>1</th>\n",
              "      <td>1</td>\n",
              "      <td>85</td>\n",
              "      <td>66</td>\n",
              "      <td>29</td>\n",
              "      <td>0</td>\n",
              "      <td>26.6</td>\n",
              "      <td>0.351</td>\n",
              "      <td>31</td>\n",
              "      <td>0</td>\n",
              "    </tr>\n",
              "    <tr>\n",
              "      <th>2</th>\n",
              "      <td>8</td>\n",
              "      <td>183</td>\n",
              "      <td>64</td>\n",
              "      <td>0</td>\n",
              "      <td>0</td>\n",
              "      <td>23.3</td>\n",
              "      <td>0.672</td>\n",
              "      <td>32</td>\n",
              "      <td>1</td>\n",
              "    </tr>\n",
              "    <tr>\n",
              "      <th>3</th>\n",
              "      <td>1</td>\n",
              "      <td>89</td>\n",
              "      <td>66</td>\n",
              "      <td>23</td>\n",
              "      <td>94</td>\n",
              "      <td>28.1</td>\n",
              "      <td>0.167</td>\n",
              "      <td>21</td>\n",
              "      <td>0</td>\n",
              "    </tr>\n",
              "    <tr>\n",
              "      <th>4</th>\n",
              "      <td>0</td>\n",
              "      <td>137</td>\n",
              "      <td>40</td>\n",
              "      <td>35</td>\n",
              "      <td>168</td>\n",
              "      <td>43.1</td>\n",
              "      <td>2.288</td>\n",
              "      <td>33</td>\n",
              "      <td>1</td>\n",
              "    </tr>\n",
              "  </tbody>\n",
              "</table>\n",
              "</div>"
            ],
            "text/plain": [
              "   pregnancies  glucose  bloodpressure  skinthickness  insulin   bmi    dpf  \\\n",
              "0            6      148             72             35        0  33.6  0.627   \n",
              "1            1       85             66             29        0  26.6  0.351   \n",
              "2            8      183             64              0        0  23.3  0.672   \n",
              "3            1       89             66             23       94  28.1  0.167   \n",
              "4            0      137             40             35      168  43.1  2.288   \n",
              "\n",
              "   age  outcome  \n",
              "0   50        1  \n",
              "1   31        0  \n",
              "2   32        1  \n",
              "3   21        0  \n",
              "4   33        1  "
            ]
          },
          "execution_count": 705,
          "metadata": {},
          "output_type": "execute_result"
        }
      ],
      "source": [
        "# printing the first 5 rows of the dataset\n",
        "diabetes_dataset.head()"
      ]
    },
    {
      "cell_type": "code",
      "execution_count": 706,
      "metadata": {
        "colab": {
          "base_uri": "https://localhost:8080/"
        },
        "id": "lynParo6pEMB",
        "outputId": "4c71bc91-33d7-45a8-8510-db04a31fa634"
      },
      "outputs": [
        {
          "data": {
            "text/plain": [
              "(768, 9)"
            ]
          },
          "execution_count": 706,
          "metadata": {},
          "output_type": "execute_result"
        }
      ],
      "source": [
        "# number of rows and Columns in this dataset\n",
        "diabetes_dataset.shape"
      ]
    },
    {
      "cell_type": "code",
      "execution_count": 707,
      "metadata": {
        "colab": {
          "base_uri": "https://localhost:8080/",
          "height": 288
        },
        "id": "3NDJOlrEpmoL",
        "outputId": "afa1fd6c-4c87-4f2a-d91f-ef7c775701e5"
      },
      "outputs": [
        {
          "data": {
            "text/html": [
              "<div>\n",
              "<style scoped>\n",
              "    .dataframe tbody tr th:only-of-type {\n",
              "        vertical-align: middle;\n",
              "    }\n",
              "\n",
              "    .dataframe tbody tr th {\n",
              "        vertical-align: top;\n",
              "    }\n",
              "\n",
              "    .dataframe thead th {\n",
              "        text-align: right;\n",
              "    }\n",
              "</style>\n",
              "<table border=\"1\" class=\"dataframe\">\n",
              "  <thead>\n",
              "    <tr style=\"text-align: right;\">\n",
              "      <th></th>\n",
              "      <th>pregnancies</th>\n",
              "      <th>glucose</th>\n",
              "      <th>bloodpressure</th>\n",
              "      <th>skinthickness</th>\n",
              "      <th>insulin</th>\n",
              "      <th>bmi</th>\n",
              "      <th>dpf</th>\n",
              "      <th>age</th>\n",
              "      <th>outcome</th>\n",
              "    </tr>\n",
              "  </thead>\n",
              "  <tbody>\n",
              "    <tr>\n",
              "      <th>count</th>\n",
              "      <td>768.000000</td>\n",
              "      <td>768.000000</td>\n",
              "      <td>768.000000</td>\n",
              "      <td>768.000000</td>\n",
              "      <td>768.000000</td>\n",
              "      <td>768.000000</td>\n",
              "      <td>768.000000</td>\n",
              "      <td>768.000000</td>\n",
              "      <td>768.000000</td>\n",
              "    </tr>\n",
              "    <tr>\n",
              "      <th>mean</th>\n",
              "      <td>3.845052</td>\n",
              "      <td>120.894531</td>\n",
              "      <td>69.105469</td>\n",
              "      <td>20.536458</td>\n",
              "      <td>79.799479</td>\n",
              "      <td>31.992578</td>\n",
              "      <td>0.471876</td>\n",
              "      <td>33.240885</td>\n",
              "      <td>0.348958</td>\n",
              "    </tr>\n",
              "    <tr>\n",
              "      <th>std</th>\n",
              "      <td>3.369578</td>\n",
              "      <td>31.972618</td>\n",
              "      <td>19.355807</td>\n",
              "      <td>15.952218</td>\n",
              "      <td>115.244002</td>\n",
              "      <td>7.884160</td>\n",
              "      <td>0.331329</td>\n",
              "      <td>11.760232</td>\n",
              "      <td>0.476951</td>\n",
              "    </tr>\n",
              "    <tr>\n",
              "      <th>min</th>\n",
              "      <td>0.000000</td>\n",
              "      <td>0.000000</td>\n",
              "      <td>0.000000</td>\n",
              "      <td>0.000000</td>\n",
              "      <td>0.000000</td>\n",
              "      <td>0.000000</td>\n",
              "      <td>0.078000</td>\n",
              "      <td>21.000000</td>\n",
              "      <td>0.000000</td>\n",
              "    </tr>\n",
              "    <tr>\n",
              "      <th>25%</th>\n",
              "      <td>1.000000</td>\n",
              "      <td>99.000000</td>\n",
              "      <td>62.000000</td>\n",
              "      <td>0.000000</td>\n",
              "      <td>0.000000</td>\n",
              "      <td>27.300000</td>\n",
              "      <td>0.243750</td>\n",
              "      <td>24.000000</td>\n",
              "      <td>0.000000</td>\n",
              "    </tr>\n",
              "    <tr>\n",
              "      <th>50%</th>\n",
              "      <td>3.000000</td>\n",
              "      <td>117.000000</td>\n",
              "      <td>72.000000</td>\n",
              "      <td>23.000000</td>\n",
              "      <td>30.500000</td>\n",
              "      <td>32.000000</td>\n",
              "      <td>0.372500</td>\n",
              "      <td>29.000000</td>\n",
              "      <td>0.000000</td>\n",
              "    </tr>\n",
              "    <tr>\n",
              "      <th>75%</th>\n",
              "      <td>6.000000</td>\n",
              "      <td>140.250000</td>\n",
              "      <td>80.000000</td>\n",
              "      <td>32.000000</td>\n",
              "      <td>127.250000</td>\n",
              "      <td>36.600000</td>\n",
              "      <td>0.626250</td>\n",
              "      <td>41.000000</td>\n",
              "      <td>1.000000</td>\n",
              "    </tr>\n",
              "    <tr>\n",
              "      <th>max</th>\n",
              "      <td>17.000000</td>\n",
              "      <td>199.000000</td>\n",
              "      <td>122.000000</td>\n",
              "      <td>99.000000</td>\n",
              "      <td>846.000000</td>\n",
              "      <td>67.100000</td>\n",
              "      <td>2.420000</td>\n",
              "      <td>81.000000</td>\n",
              "      <td>1.000000</td>\n",
              "    </tr>\n",
              "  </tbody>\n",
              "</table>\n",
              "</div>"
            ],
            "text/plain": [
              "       pregnancies     glucose  bloodpressure  skinthickness     insulin  \\\n",
              "count   768.000000  768.000000     768.000000     768.000000  768.000000   \n",
              "mean      3.845052  120.894531      69.105469      20.536458   79.799479   \n",
              "std       3.369578   31.972618      19.355807      15.952218  115.244002   \n",
              "min       0.000000    0.000000       0.000000       0.000000    0.000000   \n",
              "25%       1.000000   99.000000      62.000000       0.000000    0.000000   \n",
              "50%       3.000000  117.000000      72.000000      23.000000   30.500000   \n",
              "75%       6.000000  140.250000      80.000000      32.000000  127.250000   \n",
              "max      17.000000  199.000000     122.000000      99.000000  846.000000   \n",
              "\n",
              "              bmi         dpf         age     outcome  \n",
              "count  768.000000  768.000000  768.000000  768.000000  \n",
              "mean    31.992578    0.471876   33.240885    0.348958  \n",
              "std      7.884160    0.331329   11.760232    0.476951  \n",
              "min      0.000000    0.078000   21.000000    0.000000  \n",
              "25%     27.300000    0.243750   24.000000    0.000000  \n",
              "50%     32.000000    0.372500   29.000000    0.000000  \n",
              "75%     36.600000    0.626250   41.000000    1.000000  \n",
              "max     67.100000    2.420000   81.000000    1.000000  "
            ]
          },
          "execution_count": 707,
          "metadata": {},
          "output_type": "execute_result"
        }
      ],
      "source": [
        "# getting the statistical measures of the data\n",
        "diabetes_dataset.describe()"
      ]
    },
    {
      "cell_type": "code",
      "execution_count": 708,
      "metadata": {
        "colab": {
          "base_uri": "https://localhost:8080/"
        },
        "id": "LrpHzaGpp5dQ",
        "outputId": "b265441f-7d9f-4f4d-9128-7b80fa4e41c9"
      },
      "outputs": [
        {
          "data": {
            "text/plain": [
              "0    500\n",
              "1    268\n",
              "Name: outcome, dtype: int64"
            ]
          },
          "execution_count": 708,
          "metadata": {},
          "output_type": "execute_result"
        }
      ],
      "source": [
        "diabetes_dataset['outcome'].value_counts()"
      ]
    },
    {
      "cell_type": "markdown",
      "metadata": {
        "id": "cB1qRaNcqeh5"
      },
      "source": [
        "0 --> Non-Diabetic\n",
        "\n",
        "1 --> Diabetic"
      ]
    },
    {
      "cell_type": "code",
      "execution_count": 709,
      "metadata": {
        "colab": {
          "base_uri": "https://localhost:8080/",
          "height": 138
        },
        "id": "I6MWR0k_qSCK",
        "outputId": "d2aba08b-5d59-470d-d48b-da3c7befcc38"
      },
      "outputs": [
        {
          "data": {
            "text/html": [
              "<div>\n",
              "<style scoped>\n",
              "    .dataframe tbody tr th:only-of-type {\n",
              "        vertical-align: middle;\n",
              "    }\n",
              "\n",
              "    .dataframe tbody tr th {\n",
              "        vertical-align: top;\n",
              "    }\n",
              "\n",
              "    .dataframe thead th {\n",
              "        text-align: right;\n",
              "    }\n",
              "</style>\n",
              "<table border=\"1\" class=\"dataframe\">\n",
              "  <thead>\n",
              "    <tr style=\"text-align: right;\">\n",
              "      <th></th>\n",
              "      <th>pregnancies</th>\n",
              "      <th>glucose</th>\n",
              "      <th>bloodpressure</th>\n",
              "      <th>skinthickness</th>\n",
              "      <th>insulin</th>\n",
              "      <th>bmi</th>\n",
              "      <th>dpf</th>\n",
              "      <th>age</th>\n",
              "    </tr>\n",
              "    <tr>\n",
              "      <th>outcome</th>\n",
              "      <th></th>\n",
              "      <th></th>\n",
              "      <th></th>\n",
              "      <th></th>\n",
              "      <th></th>\n",
              "      <th></th>\n",
              "      <th></th>\n",
              "      <th></th>\n",
              "    </tr>\n",
              "  </thead>\n",
              "  <tbody>\n",
              "    <tr>\n",
              "      <th>0</th>\n",
              "      <td>3.298000</td>\n",
              "      <td>109.980000</td>\n",
              "      <td>68.184000</td>\n",
              "      <td>19.664000</td>\n",
              "      <td>68.792000</td>\n",
              "      <td>30.304200</td>\n",
              "      <td>0.429734</td>\n",
              "      <td>31.190000</td>\n",
              "    </tr>\n",
              "    <tr>\n",
              "      <th>1</th>\n",
              "      <td>4.865672</td>\n",
              "      <td>141.257463</td>\n",
              "      <td>70.824627</td>\n",
              "      <td>22.164179</td>\n",
              "      <td>100.335821</td>\n",
              "      <td>35.142537</td>\n",
              "      <td>0.550500</td>\n",
              "      <td>37.067164</td>\n",
              "    </tr>\n",
              "  </tbody>\n",
              "</table>\n",
              "</div>"
            ],
            "text/plain": [
              "         pregnancies     glucose  bloodpressure  skinthickness     insulin  \\\n",
              "outcome                                                                      \n",
              "0           3.298000  109.980000      68.184000      19.664000   68.792000   \n",
              "1           4.865672  141.257463      70.824627      22.164179  100.335821   \n",
              "\n",
              "               bmi       dpf        age  \n",
              "outcome                                  \n",
              "0        30.304200  0.429734  31.190000  \n",
              "1        35.142537  0.550500  37.067164  "
            ]
          },
          "execution_count": 709,
          "metadata": {},
          "output_type": "execute_result"
        }
      ],
      "source": [
        "diabetes_dataset.groupby('outcome').mean()"
      ]
    },
    {
      "cell_type": "code",
      "execution_count": 710,
      "metadata": {
        "id": "RoDW7l9mqqHZ"
      },
      "outputs": [],
      "source": [
        "# separating the data and labels\n",
        "X = diabetes_dataset.drop(columns = 'outcome', axis=1)\n",
        "y = diabetes_dataset['outcome']"
      ]
    },
    {
      "cell_type": "code",
      "execution_count": 711,
      "metadata": {},
      "outputs": [],
      "source": [
        "feature_names = X.columns.tolist()"
      ]
    },
    {
      "cell_type": "code",
      "execution_count": 712,
      "metadata": {
        "colab": {
          "base_uri": "https://localhost:8080/"
        },
        "id": "3eiRW9M9raMm",
        "outputId": "0484d0a6-eefd-4964-f3f1-062b48147705"
      },
      "outputs": [
        {
          "name": "stdout",
          "output_type": "stream",
          "text": [
            "     pregnancies  glucose  bloodpressure  skinthickness  insulin   bmi    dpf  \\\n",
            "0              6      148             72             35        0  33.6  0.627   \n",
            "1              1       85             66             29        0  26.6  0.351   \n",
            "2              8      183             64              0        0  23.3  0.672   \n",
            "3              1       89             66             23       94  28.1  0.167   \n",
            "4              0      137             40             35      168  43.1  2.288   \n",
            "..           ...      ...            ...            ...      ...   ...    ...   \n",
            "763           10      101             76             48      180  32.9  0.171   \n",
            "764            2      122             70             27        0  36.8  0.340   \n",
            "765            5      121             72             23      112  26.2  0.245   \n",
            "766            1      126             60              0        0  30.1  0.349   \n",
            "767            1       93             70             31        0  30.4  0.315   \n",
            "\n",
            "     age  \n",
            "0     50  \n",
            "1     31  \n",
            "2     32  \n",
            "3     21  \n",
            "4     33  \n",
            "..   ...  \n",
            "763   63  \n",
            "764   27  \n",
            "765   30  \n",
            "766   47  \n",
            "767   23  \n",
            "\n",
            "[768 rows x 8 columns]\n"
          ]
        }
      ],
      "source": [
        "print(X)"
      ]
    },
    {
      "cell_type": "code",
      "execution_count": 713,
      "metadata": {
        "colab": {
          "base_uri": "https://localhost:8080/"
        },
        "id": "AoxgTJAMrcCl",
        "outputId": "1b30c829-67e6-4e0f-c930-4dc054a3139d"
      },
      "outputs": [
        {
          "name": "stdout",
          "output_type": "stream",
          "text": [
            "0      1\n",
            "1      0\n",
            "2      1\n",
            "3      0\n",
            "4      1\n",
            "      ..\n",
            "763    0\n",
            "764    0\n",
            "765    0\n",
            "766    1\n",
            "767    0\n",
            "Name: outcome, Length: 768, dtype: int64\n"
          ]
        }
      ],
      "source": [
        "print(y)"
      ]
    },
    {
      "cell_type": "markdown",
      "metadata": {
        "id": "umAbo_kqrlzI"
      },
      "source": [
        "Data Standardization"
      ]
    },
    {
      "cell_type": "code",
      "execution_count": 714,
      "metadata": {
        "id": "njfM5X60rgnc"
      },
      "outputs": [],
      "source": [
        "# scaler = StandardScaler()"
      ]
    },
    {
      "cell_type": "code",
      "execution_count": 715,
      "metadata": {
        "colab": {
          "base_uri": "https://localhost:8080/"
        },
        "id": "g0ai5ARbr53p",
        "outputId": "f2c6f6f7-87c8-4468-cbd5-e0b6b8636d60"
      },
      "outputs": [],
      "source": [
        "# scaler.fit(X)"
      ]
    },
    {
      "cell_type": "code",
      "execution_count": 716,
      "metadata": {
        "id": "FHxNwPuZr-kD"
      },
      "outputs": [],
      "source": [
        "# standardized_data = scaler.transform(X)"
      ]
    },
    {
      "cell_type": "code",
      "execution_count": 717,
      "metadata": {
        "colab": {
          "base_uri": "https://localhost:8080/"
        },
        "id": "fjMwZ5x6sPUJ",
        "outputId": "2d8295c4-c5d0-4922-ba45-59d4ec114d36"
      },
      "outputs": [],
      "source": [
        "# print(standardized_data)"
      ]
    },
    {
      "cell_type": "code",
      "execution_count": 718,
      "metadata": {
        "id": "ZxWSl4SGsRjE"
      },
      "outputs": [],
      "source": [
        "# X = standardized_data\n",
        "y = diabetes_dataset['outcome']"
      ]
    },
    {
      "cell_type": "code",
      "execution_count": 719,
      "metadata": {
        "colab": {
          "base_uri": "https://localhost:8080/"
        },
        "id": "lhJF_7QjsjmP",
        "outputId": "56cb64d4-a50b-4ecc-fcae-64df4dd293e7"
      },
      "outputs": [
        {
          "name": "stdout",
          "output_type": "stream",
          "text": [
            "     pregnancies  glucose  bloodpressure  skinthickness  insulin   bmi    dpf  \\\n",
            "0              6      148             72             35        0  33.6  0.627   \n",
            "1              1       85             66             29        0  26.6  0.351   \n",
            "2              8      183             64              0        0  23.3  0.672   \n",
            "3              1       89             66             23       94  28.1  0.167   \n",
            "4              0      137             40             35      168  43.1  2.288   \n",
            "..           ...      ...            ...            ...      ...   ...    ...   \n",
            "763           10      101             76             48      180  32.9  0.171   \n",
            "764            2      122             70             27        0  36.8  0.340   \n",
            "765            5      121             72             23      112  26.2  0.245   \n",
            "766            1      126             60              0        0  30.1  0.349   \n",
            "767            1       93             70             31        0  30.4  0.315   \n",
            "\n",
            "     age  \n",
            "0     50  \n",
            "1     31  \n",
            "2     32  \n",
            "3     21  \n",
            "4     33  \n",
            "..   ...  \n",
            "763   63  \n",
            "764   27  \n",
            "765   30  \n",
            "766   47  \n",
            "767   23  \n",
            "\n",
            "[768 rows x 8 columns]\n",
            "0      1\n",
            "1      0\n",
            "2      1\n",
            "3      0\n",
            "4      1\n",
            "      ..\n",
            "763    0\n",
            "764    0\n",
            "765    0\n",
            "766    1\n",
            "767    0\n",
            "Name: outcome, Length: 768, dtype: int64\n"
          ]
        }
      ],
      "source": [
        "print(X)\n",
        "print(y)"
      ]
    },
    {
      "cell_type": "markdown",
      "metadata": {
        "id": "gHciEFkxsoQP"
      },
      "source": [
        "Train Test Split"
      ]
    },
    {
      "cell_type": "code",
      "execution_count": 720,
      "metadata": {
        "id": "AEfKGj_yslvD"
      },
      "outputs": [],
      "source": [
        "X_train, X_test, y_train, y_test = train_test_split(X,y, test_size = 0.09, stratify=y, random_state=42)"
      ]
    },
    {
      "cell_type": "code",
      "execution_count": 721,
      "metadata": {},
      "outputs": [],
      "source": [
        "# Get the feature names\n",
        "# feature_names = X.columns.tolist()"
      ]
    },
    {
      "cell_type": "code",
      "execution_count": 722,
      "metadata": {},
      "outputs": [],
      "source": [
        "# # Initialize and fit the scaler\n",
        "# scaler = StandardScaler()\n",
        "# X_train_scaled = scaler.fit_transform(X_train)\n",
        "# X_test_scaled = scaler.transform(X_test)"
      ]
    },
    {
      "cell_type": "code",
      "execution_count": 723,
      "metadata": {
        "colab": {
          "base_uri": "https://localhost:8080/"
        },
        "id": "DR05T-o0t3FQ",
        "outputId": "fe062ec2-78bc-4fdf-a49e-ff5f8f41dab8"
      },
      "outputs": [],
      "source": [
        "# print(X.shape, X_train.shape, X_test.shape)"
      ]
    },
    {
      "cell_type": "markdown",
      "metadata": {
        "id": "ElJ3tkOtuC_n"
      },
      "source": [
        "Training the Model"
      ]
    },
    {
      "cell_type": "code",
      "execution_count": 724,
      "metadata": {
        "id": "5szLWHlNt9xc"
      },
      "outputs": [
        {
          "name": "stdout",
          "output_type": "stream",
          "text": [
            "Cross-validated accuracy scores: [0.75       0.8        0.71428571 0.8057554  0.76258993]\n",
            "Mean accuracy: 0.7665262076053443\n",
            "Accuracy score of the training data: 0.7822349570200573\n",
            "Accuracy score of the test data: 0.8\n",
            "Confusion Matrix:\n",
            " [[38  8]\n",
            " [ 6 18]]\n",
            "Classification Report:\n",
            "               precision    recall  f1-score   support\n",
            "\n",
            "           0       0.86      0.83      0.84        46\n",
            "           1       0.69      0.75      0.72        24\n",
            "\n",
            "    accuracy                           0.80        70\n",
            "   macro avg       0.78      0.79      0.78        70\n",
            "weighted avg       0.80      0.80      0.80        70\n",
            "\n"
          ]
        }
      ],
      "source": [
        "from sklearn.model_selection import cross_val_score\n",
        "from sklearn.linear_model import LogisticRegression\n",
        "from sklearn.metrics import confusion_matrix, classification_report\n",
        "\n",
        "# Assuming X_train and y_train are your training data\n",
        "lr_model = LogisticRegression()\n",
        "\n",
        "# Cross-validated accuracy scores\n",
        "cv_scores = cross_val_score(lr_model, X_train, y_train, cv=5)\n",
        "\n",
        "# Mean accuracy\n",
        "print(\"Cross-validated accuracy scores:\", cv_scores)\n",
        "print(\"Mean accuracy:\", cv_scores.mean())\n",
        "\n",
        "# Training data accuracy\n",
        "lr_model.fit(X_train, y_train)\n",
        "training_data_accuracy_lr = lr_model.score(X_train, y_train)\n",
        "print('Accuracy score of the training data:', training_data_accuracy_lr)\n",
        "\n",
        "# Test data accuracy\n",
        "test_data_accuracy_lr = lr_model.score(X_test, y_test)\n",
        "print('Accuracy score of the test data:', test_data_accuracy_lr)\n",
        "\n",
        "# Confusion Matrix\n",
        "y_pred_lr = lr_model.predict(X_test)\n",
        "conf_matrix_lr = confusion_matrix(y_test, y_pred_lr)\n",
        "print('Confusion Matrix:\\n', conf_matrix_lr)\n",
        "\n",
        "# Classification Report\n",
        "class_report_lr = classification_report(y_test, y_pred_lr)\n",
        "print('Classification Report:\\n', class_report_lr)\n"
      ]
    },
    {
      "cell_type": "code",
      "execution_count": 725,
      "metadata": {},
      "outputs": [
        {
          "name": "stdout",
          "output_type": "stream",
          "text": [
            "Cross-validated accuracy scores: [0.6        0.68571429 0.62857143 0.71942446 0.69064748]\n",
            "Mean accuracy: 0.6648715313463515\n",
            "Accuracy score of the training data: 1.0\n",
            "Accuracy score of the test data: 0.7\n",
            "Confusion Matrix:\n",
            " [[35 11]\n",
            " [10 14]]\n",
            "Classification Report:\n",
            "               precision    recall  f1-score   support\n",
            "\n",
            "           0       0.78      0.76      0.77        46\n",
            "           1       0.56      0.58      0.57        24\n",
            "\n",
            "    accuracy                           0.70        70\n",
            "   macro avg       0.67      0.67      0.67        70\n",
            "weighted avg       0.70      0.70      0.70        70\n",
            "\n"
          ]
        }
      ],
      "source": [
        "from sklearn.tree import DecisionTreeClassifier\n",
        "\n",
        "dt_model = DecisionTreeClassifier()\n",
        "\n",
        "cv_scores = cross_val_score(dt_model, X_train, y_train, cv=5)\n",
        "print(\"Cross-validated accuracy scores:\", cv_scores)\n",
        "print(\"Mean accuracy:\", cv_scores.mean())\n",
        "\n",
        "dt_model.fit(X_train, y_train)\n",
        "training_data_accuracy_dt = dt_model.score(X_train, y_train)\n",
        "print('Accuracy score of the training data:', training_data_accuracy_dt)\n",
        "\n",
        "test_data_accuracy_dt = dt_model.score(X_test, y_test)\n",
        "print('Accuracy score of the test data:', test_data_accuracy_dt)\n",
        "\n",
        "# Confusion Matrix\n",
        "y_pred_dt = dt_model.predict(X_test)\n",
        "conf_matrix_dt = confusion_matrix(y_test, y_pred_dt)\n",
        "print('Confusion Matrix:\\n', conf_matrix_dt)\n",
        "\n",
        "# Classification Report\n",
        "class_report_dt = classification_report(y_test, y_pred_dt)\n",
        "print('Classification Report:\\n', class_report_dt)\n"
      ]
    },
    {
      "cell_type": "code",
      "execution_count": 726,
      "metadata": {},
      "outputs": [
        {
          "name": "stdout",
          "output_type": "stream",
          "text": [
            "Cross-validated accuracy scores: [0.74285714 0.8        0.66428571 0.79136691 0.75539568]\n",
            "Mean accuracy: 0.750781089414183\n",
            "rf Accuracy: 1.0\n",
            "Accuracy score of the test data: 0.8142857142857143\n",
            "Confusion Matrix:\n",
            " [[38  8]\n",
            " [ 5 19]]\n",
            "Classification Report:\n",
            "               precision    recall  f1-score   support\n",
            "\n",
            "           0       0.88      0.83      0.85        46\n",
            "           1       0.70      0.79      0.75        24\n",
            "\n",
            "    accuracy                           0.81        70\n",
            "   macro avg       0.79      0.81      0.80        70\n",
            "weighted avg       0.82      0.81      0.82        70\n",
            "\n"
          ]
        }
      ],
      "source": [
        "from sklearn.ensemble import RandomForestClassifier\n",
        "\n",
        "rf_model = RandomForestClassifier(n_estimators=100, random_state=42)\n",
        "\n",
        "cv_scores = cross_val_score(rf_model, X_train, y_train, cv=5)\n",
        "print(\"Cross-validated accuracy scores:\", cv_scores)\n",
        "print(\"Mean accuracy:\", cv_scores.mean())\n",
        "\n",
        "rf_model.fit(X_train, y_train)\n",
        "accuracy_rf = rf_model.score(X_train, y_train)\n",
        "print(f'rf Accuracy: {accuracy_rf}')\n",
        "\n",
        "# Test data accuracy\n",
        "test_data_accuracy_rf = rf_model.score(X_test, y_test)\n",
        "print('Accuracy score of the test data:', test_data_accuracy_rf)\n",
        "\n",
        "# Confusion Matrix\n",
        "y_pred_rf = rf_model.predict(X_test)\n",
        "conf_matrix_rf = confusion_matrix(y_test, y_pred_rf)\n",
        "print('Confusion Matrix:\\n', conf_matrix_rf)\n",
        "\n",
        "# Classification Report\n",
        "class_report_rf = classification_report(y_test, y_pred_rf)\n",
        "print('Classification Report:\\n', class_report_rf)"
      ]
    },
    {
      "cell_type": "code",
      "execution_count": 727,
      "metadata": {},
      "outputs": [
        {
          "name": "stdout",
          "output_type": "stream",
          "text": [
            "Cross-validated accuracy scores: [0.70714286 0.76428571 0.67142857 0.77697842 0.75539568]\n",
            "Mean accuracy: 0.7350462487153134\n",
            "XGBoost Accuracy: 1.0\n",
            "Accuracy score of the test data: 0.8142857142857143\n",
            "Confusion Matrix:\n",
            " [[38  8]\n",
            " [ 5 19]]\n",
            "Classification Report:\n",
            "               precision    recall  f1-score   support\n",
            "\n",
            "           0       0.88      0.83      0.85        46\n",
            "           1       0.70      0.79      0.75        24\n",
            "\n",
            "    accuracy                           0.81        70\n",
            "   macro avg       0.79      0.81      0.80        70\n",
            "weighted avg       0.82      0.81      0.82        70\n",
            "\n"
          ]
        }
      ],
      "source": [
        "import xgboost as xgb\n",
        "\n",
        "xgb_model = xgb.XGBClassifier()\n",
        "\n",
        "cv_scores = cross_val_score(xgb_model, X_train, y_train, cv=5)\n",
        "print(\"Cross-validated accuracy scores:\", cv_scores)\n",
        "print(\"Mean accuracy:\", cv_scores.mean())\n",
        "\n",
        "xgb_model.fit(X_train, y_train)\n",
        "accuracy_xgb = xgb_model.score(X_train, y_train)\n",
        "print(f'XGBoost Accuracy: {accuracy_xgb}')\n",
        "\n",
        "# Test data accuracy\n",
        "test_data_accuracy_xgb = xgb_model.score(X_test, y_test)\n",
        "print('Accuracy score of the test data:', test_data_accuracy_xgb)\n",
        "\n",
        "# Confusion Matrix\n",
        "y_pred_xgb = xgb_model.predict(X_test)\n",
        "conf_matrix_xgb = confusion_matrix(y_test, y_pred_xgb)\n",
        "print('Confusion Matrix:\\n', conf_matrix_xgb)\n",
        "\n",
        "# Classification Report\n",
        "class_report_xgb = classification_report(y_test, y_pred_xgb)\n",
        "print('Classification Report:\\n', class_report_xgb)"
      ]
    },
    {
      "cell_type": "code",
      "execution_count": 728,
      "metadata": {},
      "outputs": [
        {
          "name": "stdout",
          "output_type": "stream",
          "text": [
            "Cross-validated accuracy scores: [0.75       0.77857143 0.7        0.79856115 0.75539568]\n",
            "Mean accuracy: 0.7565056526207605\n",
            "SVM Accuracy: 0.7693409742120344\n",
            "Accuracy score of the test data: 0.7428571428571429\n",
            "Confusion Matrix:\n",
            " [[39  7]\n",
            " [11 13]]\n",
            "Classification Report:\n",
            "               precision    recall  f1-score   support\n",
            "\n",
            "           0       0.78      0.85      0.81        46\n",
            "           1       0.65      0.54      0.59        24\n",
            "\n",
            "    accuracy                           0.74        70\n",
            "   macro avg       0.72      0.69      0.70        70\n",
            "weighted avg       0.74      0.74      0.74        70\n",
            "\n"
          ]
        }
      ],
      "source": [
        "from sklearn.svm import SVC\n",
        "\n",
        "svm_model = SVC()\n",
        "\n",
        "cv_scores = cross_val_score(svm_model, X_train, y_train, cv=5)\n",
        "print(\"Cross-validated accuracy scores:\", cv_scores)\n",
        "print(\"Mean accuracy:\", cv_scores.mean())\n",
        "\n",
        "svm_model.fit(X_train, y_train)\n",
        "accuracy_svm = svm_model.score(X_train, y_train)\n",
        "print(f'SVM Accuracy: {accuracy_svm}')\n",
        "\n",
        "# Test data accuracy\n",
        "test_data_accuracy_svm = svm_model.score(X_test, y_test)\n",
        "print('Accuracy score of the test data:', test_data_accuracy_svm)\n",
        "\n",
        "# Confusion Matrix\n",
        "y_pred_svm = svm_model.predict(X_test)\n",
        "conf_matrix_svm = confusion_matrix(y_test, y_pred_svm)\n",
        "print('Confusion Matrix:\\n', conf_matrix_svm)\n",
        "\n",
        "# Classification Report\n",
        "class_report_svm = classification_report(y_test, y_pred_svm)\n",
        "print('Classification Report:\\n', class_report_svm)"
      ]
    },
    {
      "cell_type": "markdown",
      "metadata": {
        "id": "gq8ZX1xpwPF5"
      },
      "source": [
        "Making a Predictive System"
      ]
    },
    {
      "cell_type": "code",
      "execution_count": 729,
      "metadata": {
        "colab": {
          "base_uri": "https://localhost:8080/"
        },
        "id": "U-ULRe4yv5tH",
        "outputId": "98388b32-53bc-4c51-a04b-ca80a016f8bf"
      },
      "outputs": [
        {
          "name": "stdout",
          "output_type": "stream",
          "text": [
            "Cross-validated accuracy scores: [0.71428571 0.75       0.64285714 0.72661871 0.70503597]\n",
            "Mean accuracy: 0.70775950668037\n",
            "KNN Accuracy: 0.8051575931232091\n",
            "Accuracy score of the test data: 0.6857142857142857\n",
            "Confusion Matrix:\n",
            " [[36 10]\n",
            " [12 12]]\n",
            "Classification Report:\n",
            "               precision    recall  f1-score   support\n",
            "\n",
            "           0       0.75      0.78      0.77        46\n",
            "           1       0.55      0.50      0.52        24\n",
            "\n",
            "    accuracy                           0.69        70\n",
            "   macro avg       0.65      0.64      0.64        70\n",
            "weighted avg       0.68      0.69      0.68        70\n",
            "\n"
          ]
        }
      ],
      "source": [
        "from sklearn.neighbors import KNeighborsClassifier\n",
        "\n",
        "knn_model = KNeighborsClassifier()\n",
        "\n",
        "cv_scores = cross_val_score(knn_model, X_train, y_train, cv=5)\n",
        "print(\"Cross-validated accuracy scores:\", cv_scores)\n",
        "print(\"Mean accuracy:\", cv_scores.mean())\n",
        "\n",
        "knn_model.fit(X_train, y_train)\n",
        "accuracy_knn = knn_model.score(X_train, y_train)\n",
        "print(f'KNN Accuracy: {accuracy_knn}')\n",
        "\n",
        "# Test data accuracy\n",
        "test_data_accuracy_knn = knn_model.score(X_test, y_test)\n",
        "print('Accuracy score of the test data:', test_data_accuracy_knn)\n",
        "\n",
        "# Confusion Matrix\n",
        "y_pred_knn = knn_model.predict(X_test)\n",
        "conf_matrix_knn = confusion_matrix(y_test, y_pred_knn)\n",
        "print('Confusion Matrix:\\n', conf_matrix_knn)\n",
        "\n",
        "# Classification Report\n",
        "class_report_knn = classification_report(y_test, y_pred_knn)\n",
        "print('Classification Report:\\n', class_report_knn)"
      ]
    },
    {
      "cell_type": "code",
      "execution_count": 736,
      "metadata": {},
      "outputs": [
        {
          "name": "stdout",
          "output_type": "stream",
          "text": [
            "[1]\n",
            "The person is diabetic\n"
          ]
        }
      ],
      "source": [
        "from numpy import ScalarType\n",
        "\n",
        "\n",
        "input_data = (0,198,66,32,274,41.3,0.502,28)\n",
        "\n",
        "# changing the input_data to numpy array\n",
        "input_data_as_numpy_array = np.asarray(input_data)\n",
        "\n",
        "# reshape the array as we are predicting for one instance\n",
        "input_data_reshaped = input_data_as_numpy_array.reshape(1,-1)\n",
        "\n",
        "# standardize the input data\n",
        "# std_data = ScalarType.transform(input_data_reshaped)\n",
        "# print(std_data)\n",
        "\n",
        "prediction = rf_model.predict(input_data_reshaped)\n",
        "print(prediction)\n",
        "\n",
        "if (prediction[0] == 0):\n",
        "  print('The person is not diabetic')\n",
        "else:\n",
        "  print('The person is diabetic')"
      ]
    },
    {
      "cell_type": "code",
      "execution_count": 738,
      "metadata": {
        "id": "Ex2A_pr4yCpm"
      },
      "outputs": [
        {
          "data": {
            "text/plain": [
              "['diabetes.pkl']"
            ]
          },
          "execution_count": 738,
          "metadata": {},
          "output_type": "execute_result"
        }
      ],
      "source": [
        "import joblib\n",
        "\n",
        "# Save the Model to a .pkl File\n",
        "joblib.dump(rf_model, 'diabetes.pkl')\n",
        "# joblib.dump(scaler, 'diabetes_scaler.pkl' )"
      ]
    },
    {
      "cell_type": "code",
      "execution_count": null,
      "metadata": {},
      "outputs": [],
      "source": []
    },
    {
      "cell_type": "code",
      "execution_count": null,
      "metadata": {},
      "outputs": [],
      "source": []
    }
  ],
  "metadata": {
    "colab": {
      "provenance": []
    },
    "kernelspec": {
      "display_name": "Python 3",
      "name": "python3"
    },
    "language_info": {
      "codemirror_mode": {
        "name": "ipython",
        "version": 3
      },
      "file_extension": ".py",
      "mimetype": "text/x-python",
      "name": "python",
      "nbconvert_exporter": "python",
      "pygments_lexer": "ipython3",
      "version": "3.7.9"
    }
  },
  "nbformat": 4,
  "nbformat_minor": 0
}
